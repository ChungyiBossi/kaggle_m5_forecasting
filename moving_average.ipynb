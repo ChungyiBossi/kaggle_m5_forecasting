{
 "cells": [
  {
   "cell_type": "code",
   "execution_count": 1,
   "id": "ce907cdb-3148-4d1c-b9d5-de800309a056",
   "metadata": {},
   "outputs": [],
   "source": [
    "import pandas as pd\n",
    "import numpy as np"
   ]
  },
  {
   "cell_type": "code",
   "execution_count": 3,
   "id": "538d24d8-f398-4e67-925e-ba7b0a9468e8",
   "metadata": {},
   "outputs": [],
   "source": [
    "# Read in the data\n",
    "INPUT_DIR = './m5-forecasting-accuracy'\n",
    "df_sale = pd.read_csv(f'{INPUT_DIR}/sales_train_validation.csv')\n",
    "df_calendar = pd.read_csv(f'{INPUT_DIR}/calendar.csv')\n",
    "df_price = pd.read_csv(f'{INPUT_DIR}/sell_prices.csv')\n",
    "df_sample = pd.read_csv(f'{INPUT_DIR}/sample_submission.csv')"
   ]
  },
  {
   "cell_type": "code",
   "execution_count": 4,
   "id": "2cc72aa8-6cad-4834-8c82-2d0b3fddaec0",
   "metadata": {},
   "outputs": [],
   "source": [
    "# Forecast with MA\n",
    "df_last_sale = df_sale.iloc[:, np.r_[0,-28:0]].melt('id', var_name='d', value_name='sale')\n",
    "df_last_sale = df_last_sale.merge(df_calendar.loc[:,['d','date','wday']])\n",
    "last_date = int(df_last_sale.d.max()[2:])\n",
    "df_last_sale = df_last_sale.groupby(['id','wday'])['sale'].mean()\n",
    "\n",
    "\n",
    "df_ma_forecast = df_sample.copy()\n",
    "df_ma_forecast.columns = ['id'] + ['d_' + str(last_date + x) for x in range(1, 29)]\n",
    "df_ma_forecast = df_ma_forecast.loc[df_ma_forecast.id.str.contains('validation')]\n",
    "\n",
    "df_ma_forecast = df_ma_forecast.melt('id', var_name='d', value_name='sale')\n",
    "df_ma_forecast = df_ma_forecast.drop('sale',axis = 1)\n",
    "df_ma_forecast = df_ma_forecast.merge(df_calendar.loc[:,['d','date','wday']])\n",
    "df_ma_forecast = df_ma_forecast.join(df_last_sale, on=['id', 'wday'])\n",
    "\n",
    "df_ma_forecast = df_ma_forecast.pivot(index='id', columns='d', values='sale')\n",
    "df_ma_forecast = df_ma_forecast.reset_index()"
   ]
  },
  {
   "cell_type": "code",
   "execution_count": 8,
   "id": "540052de-1653-49f5-b6b6-11a8d6d48a94",
   "metadata": {},
   "outputs": [],
   "source": [
    "df_ma_forecast.to_csv(\"./submission_ma.csv\")"
   ]
  },
  {
   "cell_type": "code",
   "execution_count": null,
   "id": "3c6f690c-82bd-4f97-9278-7d6de2135cac",
   "metadata": {},
   "outputs": [],
   "source": []
  }
 ],
 "metadata": {
  "kernelspec": {
   "display_name": "Python 3 (ipykernel)",
   "language": "python",
   "name": "python3"
  },
  "language_info": {
   "codemirror_mode": {
    "name": "ipython",
    "version": 3
   },
   "file_extension": ".py",
   "mimetype": "text/x-python",
   "name": "python",
   "nbconvert_exporter": "python",
   "pygments_lexer": "ipython3",
   "version": "3.8.2"
  }
 },
 "nbformat": 4,
 "nbformat_minor": 5
}
